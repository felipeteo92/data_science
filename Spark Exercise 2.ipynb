{
 "cells": [
  {
   "cell_type": "markdown",
   "id": "de4b33a1",
   "metadata": {},
   "source": [
    "## TPM2 - Trabalho Prático do Módulo 2 - Pós em Ciência de Dados"
   ]
  },
  {
   "cell_type": "markdown",
   "id": "6fe9227f",
   "metadata": {},
   "source": [
    "### Trabalho Prático \n",
    "### Módulo 2: Desenvolvendo Soluções Utilizando Apache Spark \n",
    "### Objetivos de Ensino \n",
    "Bem-vindos(as) ao trabalho prático do módulo sobre Spark! Neste trabalho, você \n",
    "vai exercitar os conceitos trabalhados na primeira parte do módulo, e vai: \n",
    "\n",
    "✔ Se acostumar a escrever e executar aplicações que usam o Spark;\n",
    "\n",
    "✔ Construir aplicações Spark interativas usando o pyspark ou uma plataforma \n",
    "interativa como o jupyter-lab; \n",
    "\n",
    "✔ Computar estatísticas descritivas usando o Spark; \n",
    "\n",
    "✔ Manipular dados a partir da API de DataFrames. \n",
    "\n",
    "É recomendado que você leia os capítulos 1, 2 e 3 da apostila e assista às aulas relacionadas a eles. Em particular, o capítulo 2 da apostila contém instruções para instalar o Spark na sua máquina. \n",
    "\n",
    "Divirta-se! \n",
    "\n",
    "### Enunciado \n",
    "\n",
    "Dados do mercado financeiro são interessantes e ricos: cada ação negociada na bolsa de valores tem um preço que varia a cada dia. Você foi contratado como cientista de dados de uma empresa de Wall Street para criar modelos preditivos que, a partir da variação diária do preço das ações, consigam subsidiar e melhorar decisões de compra e venda de ações. Você disse que, como todo bom cientista de dados, gostaria de explorar os dados para entender suas características antes de criar qualquer modelo preditivo. \n",
    "\n",
    "Os dados estão disponíveis em https://www.kaggle.com/camnugent/sandp500/ por meio do arquivo all_stocks_5yr.csv. O arquivo contém, para cada dia e ação do S&P 500 (lista de 500 maiores empresas americanas), os seguintes dados:\n",
    "\n",
    "● Date - no formato yy-mm-dd\n",
    "\n",
    "● Open - Preço da ação na abertura do mercado no dia, em dólares.\n",
    "\n",
    "● High - Maior preço alcançado naquele dia. \n",
    "\n",
    "● Low - Menor preço alcançado naquele dia.\n",
    "\n",
    "● Close - Preço da ação no fechamento do mercado no dia.\n",
    "\n",
    "● Volume - Número de ações vendidas / compradas. \n",
    "\n",
    "● Name - O nome da ação. \n",
    "\n",
    "Apesar do volume de dados ser pequeno, você decidiu usar o Apache Spark para processar os dados para aprender a ferramenta, e tendo em vista que a sua empresa disse que, em breve, obterá dados por minuto, e não por dia, e de todas as ações do planeta, não apenas dos Estados Unidos. Neste caso, uma ferramenta desenhada para lidar com big data será necessária, e você já quer estar com o código pronto. \n",
    "\n",
    "### Atividades \n",
    "\n",
    "O aluno deve extrair as principais estatísticas descritivas do conjunto de dados, usando a API de Dataframe do Spark. Consulte a aula sobre DataFrames e materiais como: \n",
    "\n",
    "● https://www.datasciencemadesimple.com/descriptive-statistics-or-summary-statistics-of-dataframe-in-pyspark/2 \n",
    "\n",
    "● https://docs.databricks.com/spark/latest/dataframesdatasets/introduction-to-dataframes-python.html  \n",
    "\n",
    "● https://medium.com/analytics-vidhya/spark-group-by-and-filter-deepdive-5326088dec80 \n",
    "\n",
    "● https://towardsdatascience.com/the-most-complete-guide-to-pysparkdataframes-2702c343b2e8 \n",
    "\n",
    "As perguntas objetivas contêm perguntas específicas que o aluno deve responder por meio de aplicações Spark."
   ]
  },
  {
   "cell_type": "markdown",
   "id": "80974e93",
   "metadata": {},
   "source": [
    "## Instalando Spark"
   ]
  },
  {
   "cell_type": "code",
   "execution_count": 1,
   "id": "09bfb41b",
   "metadata": {},
   "outputs": [
    {
     "name": "stdout",
     "output_type": "stream",
     "text": [
      "Requirement already satisfied: pyspark in c:\\users\\muril\\anaconda3\\lib\\site-packages (3.5.0)\n",
      "Requirement already satisfied: py4j==0.10.9.7 in c:\\users\\muril\\anaconda3\\lib\\site-packages (from pyspark) (0.10.9.7)\n"
     ]
    }
   ],
   "source": [
    "# importando as bibliotecas pandas e numpy\n",
    "!pip install pyspark"
   ]
  },
  {
   "cell_type": "markdown",
   "id": "4e93909f",
   "metadata": {},
   "source": [
    "## Importando o Pyspark"
   ]
  },
  {
   "cell_type": "code",
   "execution_count": 51,
   "id": "f42def40",
   "metadata": {},
   "outputs": [],
   "source": [
    "from pyspark.sql import SparkSession\n",
    "from pyspark.sql.functions import col, max, stddev, sum, abs, avg, length\n",
    "\n",
    "# Configuração básica do Spark\n",
    "spark = SparkSession.builder \\\n",
    "    .appName(\"Trabalho Prático\") \\\n",
    "    .getOrCreate()"
   ]
  },
  {
   "cell_type": "markdown",
   "id": "3281007f",
   "metadata": {},
   "source": [
    "## Importando Dados do arquivo"
   ]
  },
  {
   "cell_type": "markdown",
   "id": "63cbba42",
   "metadata": {},
   "source": [
    "Os dados estão disponíveis em https://www.kaggle.com/camnugent/sandp500/ por meio do arquivo all_stocks_5yr.csv. O arquivo contém, para cada dia e ação do S&P 500 (lista de 500 maiores empresas americanas), os seguintes dados:"
   ]
  },
  {
   "cell_type": "code",
   "execution_count": 16,
   "id": "8202c059",
   "metadata": {},
   "outputs": [],
   "source": [
    "# importando o arquivo all_stocks_5yr.csv\n",
    "df = (spark.read\n",
    "  .format(\"csv\")\n",
    "  .option(\"header\", \"true\")\n",
    "  .option(\"inferSchema\", \"true\")\n",
    "  .load(\"all_stocks_5yr.csv\")\n",
    ")"
   ]
  },
  {
   "cell_type": "markdown",
   "id": "26581ba6",
   "metadata": {},
   "source": [
    "## Visualizando os dados"
   ]
  },
  {
   "cell_type": "code",
   "execution_count": 17,
   "id": "e329f358",
   "metadata": {},
   "outputs": [
    {
     "name": "stdout",
     "output_type": "stream",
     "text": [
      "+----------+-----+-----+-----+-----+--------+----+\n",
      "|      date| open| high|  low|close|  volume|Name|\n",
      "+----------+-----+-----+-----+-----+--------+----+\n",
      "|2013-02-08|15.07|15.12|14.63|14.75| 8407500| AAL|\n",
      "|2013-02-11|14.89|15.01|14.26|14.46| 8882000| AAL|\n",
      "|2013-02-12|14.45|14.51| 14.1|14.27| 8126000| AAL|\n",
      "|2013-02-13| 14.3|14.94|14.25|14.66|10259500| AAL|\n",
      "|2013-02-14|14.94|14.96|13.16|13.99|31879900| AAL|\n",
      "|2013-02-15|13.93|14.61|13.93| 14.5|15628000| AAL|\n",
      "|2013-02-19|14.33|14.56|14.08|14.26|11354400| AAL|\n",
      "|2013-02-20|14.17|14.26|13.15|13.33|14725200| AAL|\n",
      "|2013-02-21|13.62|13.95| 12.9|13.37|11922100| AAL|\n",
      "|2013-02-22|13.57| 13.6|13.21|13.57| 6071400| AAL|\n",
      "|2013-02-25| 13.6|13.76| 13.0|13.02| 7186400| AAL|\n",
      "|2013-02-26|13.14|13.42| 12.7|13.26| 9419000| AAL|\n",
      "|2013-02-27|13.28|13.62|13.18|13.41| 7390500| AAL|\n",
      "|2013-02-28|13.49|13.63|13.39|13.43| 6143600| AAL|\n",
      "|2013-03-01|13.37|13.95|13.32|13.61| 7376800| AAL|\n",
      "|2013-03-04| 13.5|14.07|13.47| 13.9| 8174800| AAL|\n",
      "|2013-03-05|14.01|14.05|13.71|14.05| 7676100| AAL|\n",
      "|2013-03-06|14.52|14.68|14.25|14.57|13243200| AAL|\n",
      "|2013-03-07| 14.7|14.93| 14.5|14.82| 9125300| AAL|\n",
      "|2013-03-08|14.99| 15.2|14.84|14.92|10593700| AAL|\n",
      "+----------+-----+-----+-----+-----+--------+----+\n",
      "only showing top 20 rows\n",
      "\n"
     ]
    }
   ],
   "source": [
    "# visualizando dataframe\n",
    "df.show()"
   ]
  },
  {
   "cell_type": "markdown",
   "id": "a5102a8d",
   "metadata": {},
   "source": [
    "## Estatística descritiva"
   ]
  },
  {
   "cell_type": "code",
   "execution_count": 18,
   "id": "87fb278d",
   "metadata": {},
   "outputs": [
    {
     "name": "stdout",
     "output_type": "stream",
     "text": [
      "+-------+----------------+-----------------+-----------------+-----------------+-----------------+------+\n",
      "|summary|            open|             high|              low|            close|           volume|  Name|\n",
      "+-------+----------------+-----------------+-----------------+-----------------+-----------------+------+\n",
      "|  count|          619029|           619032|           619032|           619040|           619040|619040|\n",
      "|   mean|83.0233343145474|83.77831069347276|82.25609641375338|83.04376276476519|4321823.395568945|  NULL|\n",
      "| stddev|97.3787690433237|98.20751890446375|96.50742105809033|97.38974800165782|8693609.511967566|  NULL|\n",
      "|    min|            1.62|             1.69|              1.5|             1.59|                0|     A|\n",
      "|    max|          2044.0|          2067.99|          2035.11|           2049.0|        618237630|   ZTS|\n",
      "+-------+----------------+-----------------+-----------------+-----------------+-----------------+------+\n",
      "\n"
     ]
    }
   ],
   "source": [
    "# visualizando as estatísticas descritivas do conjunto de dados\n",
    "df.describe().show()"
   ]
  },
  {
   "cell_type": "markdown",
   "id": "f2655df1",
   "metadata": {},
   "source": [
    "## Questão 01"
   ]
  },
  {
   "cell_type": "markdown",
   "id": "9151ca82",
   "metadata": {},
   "source": [
    "### Quantos registros há na planilha?"
   ]
  },
  {
   "cell_type": "code",
   "execution_count": 19,
   "id": "f783e200",
   "metadata": {},
   "outputs": [
    {
     "data": {
      "text/plain": [
       "619040"
      ]
     },
     "execution_count": 19,
     "metadata": {},
     "output_type": "execute_result"
    }
   ],
   "source": [
    "numero_registros = df.count()\n",
    "numero_registros"
   ]
  },
  {
   "cell_type": "markdown",
   "id": "30c0ee9f",
   "metadata": {},
   "source": [
    "### Resposta: 619040"
   ]
  },
  {
   "cell_type": "markdown",
   "id": "d5410ab6",
   "metadata": {},
   "source": [
    "## Questão 02"
   ]
  },
  {
   "cell_type": "markdown",
   "id": "80f394d0",
   "metadata": {},
   "source": [
    "### Quantos registros há na planilha para a ação da Apple (AAPL)?"
   ]
  },
  {
   "cell_type": "code",
   "execution_count": 20,
   "id": "c0558727",
   "metadata": {},
   "outputs": [
    {
     "data": {
      "text/plain": [
       "1259"
      ]
     },
     "execution_count": 20,
     "metadata": {},
     "output_type": "execute_result"
    }
   ],
   "source": [
    "numero_registros_apple = df.filter(col(\"Name\") == \"AAPL\").count()\n",
    "                                   \n",
    "numero_registros_apple"
   ]
  },
  {
   "cell_type": "markdown",
   "id": "da572219",
   "metadata": {},
   "source": [
    "### Resposta: 1259"
   ]
  },
  {
   "cell_type": "markdown",
   "id": "fe6f9866",
   "metadata": {},
   "source": [
    "## Questão 03"
   ]
  },
  {
   "cell_type": "markdown",
   "id": "69cb7a83",
   "metadata": {},
   "source": [
    "### Quantas empresas distintas têm registros nessa planilha?"
   ]
  },
  {
   "cell_type": "code",
   "execution_count": 24,
   "id": "2864ee60",
   "metadata": {},
   "outputs": [
    {
     "data": {
      "text/plain": [
       "505"
      ]
     },
     "execution_count": 24,
     "metadata": {},
     "output_type": "execute_result"
    }
   ],
   "source": [
    "df.select(\"Name\").distinct().count()"
   ]
  },
  {
   "cell_type": "markdown",
   "id": "6a83ff4a",
   "metadata": {},
   "source": [
    "### Resposta: 505"
   ]
  },
  {
   "cell_type": "markdown",
   "id": "fde7816e",
   "metadata": {},
   "source": [
    "## Questão 04"
   ]
  },
  {
   "cell_type": "markdown",
   "id": "04b89a24",
   "metadata": {},
   "source": [
    "### Com qual frequência o preço de uma ação no fechamento é maior do que o preço na abertura?"
   ]
  },
  {
   "cell_type": "code",
   "execution_count": 26,
   "id": "3dd5185d",
   "metadata": {},
   "outputs": [
    {
     "data": {
      "text/plain": [
       "51.52655724993538"
      ]
     },
     "execution_count": 26,
     "metadata": {},
     "output_type": "execute_result"
    }
   ],
   "source": [
    "# Filtrar linhas onde o preço de fechamento é maior do que o preço de abertura\n",
    "df_preco_maior = df.filter(col(\"close\") > col(\"open\"))\n",
    "\n",
    "# Calcular a frequência\n",
    "frequencia_preco_maior = (df_preco_maior.count()/df.count())*100\n",
    "\n",
    "frequencia_preco_maior"
   ]
  },
  {
   "cell_type": "markdown",
   "id": "b6a96f03",
   "metadata": {},
   "source": [
    "### Resposta: 51,53%"
   ]
  },
  {
   "cell_type": "markdown",
   "id": "284ea623",
   "metadata": {},
   "source": [
    "## Questão 05"
   ]
  },
  {
   "cell_type": "markdown",
   "id": "a7dd5172",
   "metadata": {},
   "source": [
    "### Qual o maior valor das ações da Apple (AAPL) na história?"
   ]
  },
  {
   "cell_type": "code",
   "execution_count": 28,
   "id": "d7c9bb26",
   "metadata": {},
   "outputs": [
    {
     "data": {
      "text/plain": [
       "180.1"
      ]
     },
     "execution_count": 28,
     "metadata": {},
     "output_type": "execute_result"
    }
   ],
   "source": [
    "# Filtrar apenas as ações da AAPL\n",
    "df_aapl = df.filter(col(\"Name\") == \"AAPL\")\n",
    "\n",
    "# Encontrar o maior valor das ações da AAPL na história\n",
    "maior_valor_aapl = df_aapl.agg(max(\"high\").alias(\"max_high\")).collect()[0][\"max_high\"]\n",
    "\n",
    "maior_valor_aapl"
   ]
  },
  {
   "cell_type": "markdown",
   "id": "7d1c0cd4",
   "metadata": {},
   "source": [
    "### Resposta: 180,1"
   ]
  },
  {
   "cell_type": "markdown",
   "id": "925576cc",
   "metadata": {},
   "source": [
    "## Questão 06"
   ]
  },
  {
   "cell_type": "markdown",
   "id": "c9742cb0",
   "metadata": {},
   "source": [
    "### Qual ação tem a maior volatilidade? Uma forma é medir o desvio-padrão do preço de fechamento de cada ação e considerar a ação de maior desvio-padrão."
   ]
  },
  {
   "cell_type": "code",
   "execution_count": 31,
   "id": "dd272461",
   "metadata": {},
   "outputs": [
    {
     "data": {
      "text/plain": [
       "'PCLN'"
      ]
     },
     "execution_count": 31,
     "metadata": {},
     "output_type": "execute_result"
    }
   ],
   "source": [
    "# Calcular o desvio-padrão do preço de fechamento para cada ação\n",
    "df_volatilidade = df.groupBy(\"Name\").agg(stddev(\"close\").alias(\"volatilidade\"))\n",
    "\n",
    "# Encontrar a ação com a maior volatilidade\n",
    "acao_maior_volatilidade = df_volatilidade.orderBy(col(\"volatilidade\").desc()).first()[\"Name\"]\n",
    "\n",
    "acao_maior_volatilidade"
   ]
  },
  {
   "cell_type": "markdown",
   "id": "513c4743",
   "metadata": {},
   "source": [
    "### Resposta: PCLN"
   ]
  },
  {
   "cell_type": "markdown",
   "id": "edea4627",
   "metadata": {},
   "source": [
    "## Questão 07"
   ]
  },
  {
   "cell_type": "markdown",
   "id": "7216db55",
   "metadata": {},
   "source": [
    "### Qual o dia com maior volume total de negociação da bolsa?"
   ]
  },
  {
   "cell_type": "code",
   "execution_count": 35,
   "id": "d950b002",
   "metadata": {},
   "outputs": [
    {
     "data": {
      "text/plain": [
       "datetime.date(2015, 8, 24)"
      ]
     },
     "execution_count": 35,
     "metadata": {},
     "output_type": "execute_result"
    }
   ],
   "source": [
    "# Calcular o volume total de negociação para cada dia\n",
    "df_volume_total = df.groupBy(\"date\").agg(sum(\"volume\").alias(\"volume_total\"))\n",
    "\n",
    "# Encontrar o dia com o maior volume total de negociação\n",
    "dia_maior_volume = df_volume_total.orderBy(col(\"volume_total\").desc()).first()[\"date\"]\n",
    "\n",
    "dia_maior_volume"
   ]
  },
  {
   "cell_type": "markdown",
   "id": "d43e3c00",
   "metadata": {},
   "source": [
    "### Resposta: 24/08/2015"
   ]
  },
  {
   "cell_type": "markdown",
   "id": "0eecba4d",
   "metadata": {},
   "source": [
    "## Questão 08"
   ]
  },
  {
   "cell_type": "markdown",
   "id": "0d45d348",
   "metadata": {},
   "source": [
    "### Qual a ação mais negociada da bolsa, em volume de transações?"
   ]
  },
  {
   "cell_type": "code",
   "execution_count": 36,
   "id": "497ad4a7",
   "metadata": {},
   "outputs": [
    {
     "data": {
      "text/plain": [
       "'BAC'"
      ]
     },
     "execution_count": 36,
     "metadata": {},
     "output_type": "execute_result"
    }
   ],
   "source": [
    "# Calcular o volume total de negociação para cada ação\n",
    "df_volume_total = df.groupBy(\"Name\").agg(sum(\"volume\").alias(\"volume_total\"))\n",
    "\n",
    "# Encontrar a ação mais negociada\n",
    "acao_mais_negociada = df_volume_total.orderBy(col(\"volume_total\").desc()).first()[\"Name\"]\n",
    "\n",
    "acao_mais_negociada"
   ]
  },
  {
   "cell_type": "markdown",
   "id": "97eaf20a",
   "metadata": {},
   "source": [
    "### Resposta: BAC"
   ]
  },
  {
   "cell_type": "markdown",
   "id": "d6f60430",
   "metadata": {},
   "source": [
    "## Questão 09"
   ]
  },
  {
   "cell_type": "markdown",
   "id": "25d3bd6b",
   "metadata": {},
   "source": [
    "### Quantas ações começam com a letra “A”?"
   ]
  },
  {
   "cell_type": "code",
   "execution_count": 44,
   "id": "144867d0",
   "metadata": {},
   "outputs": [
    {
     "data": {
      "text/plain": [
       "59"
      ]
     },
     "execution_count": 44,
     "metadata": {},
     "output_type": "execute_result"
    }
   ],
   "source": [
    "# Contar o número de ações que começam com a letra \"A\"\n",
    "acoes_distintas_com_a = df.filter(col(\"Name\").startswith(\"A\")).select(\"Name\").distinct().count()\n",
    "\n",
    "acoes_distintas_com_a"
   ]
  },
  {
   "cell_type": "markdown",
   "id": "f589c005",
   "metadata": {},
   "source": [
    "### Resposta: 59"
   ]
  },
  {
   "cell_type": "markdown",
   "id": "3ec97882",
   "metadata": {},
   "source": [
    "## Questão 10"
   ]
  },
  {
   "cell_type": "markdown",
   "id": "e958a72a",
   "metadata": {},
   "source": [
    "### Com qual frequência o preço mais alto do dia da ação também é o preço de fechamento?"
   ]
  },
  {
   "cell_type": "code",
   "execution_count": 45,
   "id": "7f579203",
   "metadata": {},
   "outputs": [
    {
     "data": {
      "text/plain": [
       "1.1986301369863013"
      ]
     },
     "execution_count": 45,
     "metadata": {},
     "output_type": "execute_result"
    }
   ],
   "source": [
    "# Contar com que frequência o preço mais alto do dia é também o preço de fechamento\n",
    "\n",
    "frequencia_preco_alto_fechamento = (df.filter(col(\"high\") == col(\"close\")).count()/df.count())*100\n",
    "frequencia_preco_alto_fechamento"
   ]
  },
  {
   "cell_type": "markdown",
   "id": "1fe15e24",
   "metadata": {},
   "source": [
    "### Resposta: 1,2"
   ]
  },
  {
   "cell_type": "markdown",
   "id": "e0ea3807",
   "metadata": {},
   "source": [
    "## Questão 11"
   ]
  },
  {
   "cell_type": "markdown",
   "id": "0bcca075",
   "metadata": {},
   "source": [
    "### Em qual dia a ação da Apple mais subiu entre a abertura e o fechamento, de forma absoluta?"
   ]
  },
  {
   "cell_type": "code",
   "execution_count": 47,
   "id": "1cb76019",
   "metadata": {},
   "outputs": [
    {
     "data": {
      "text/plain": [
       "datetime.date(2015, 8, 24)"
      ]
     },
     "execution_count": 47,
     "metadata": {},
     "output_type": "execute_result"
    }
   ],
   "source": [
    "# Calcular a variação absoluta entre abertura e fechamento para cada dia da AAPL\n",
    "df_variacao_absoluta = df.filter(col(\"Name\") == \"AAPL\").withColumn(\"variacao_absoluta\", abs(col(\"open\") - col(\"close\")))\n",
    "\n",
    "# Encontrar a data em que a AAPL teve a maior variação absoluta\n",
    "data_maior_variacao = df_variacao_absoluta.orderBy(col(\"variacao_absoluta\").desc()).first()[\"date\"]\n",
    "\n",
    "data_maior_variacao"
   ]
  },
  {
   "cell_type": "markdown",
   "id": "3b43dc7a",
   "metadata": {},
   "source": [
    "### Resposta: 24/08/2015"
   ]
  },
  {
   "cell_type": "markdown",
   "id": "51c2d156",
   "metadata": {},
   "source": [
    "## Questão 12"
   ]
  },
  {
   "cell_type": "markdown",
   "id": "15e5b0b6",
   "metadata": {},
   "source": [
    "### Em média, qual o volume diário de transações das ações da AAPL?"
   ]
  },
  {
   "cell_type": "code",
   "execution_count": 49,
   "id": "27df4796",
   "metadata": {},
   "outputs": [
    {
     "data": {
      "text/plain": [
       "54047899.73550437"
      ]
     },
     "execution_count": 49,
     "metadata": {},
     "output_type": "execute_result"
    }
   ],
   "source": [
    "# Filtrar apenas as ações da AAPL\n",
    "df_aapl = df.filter(col(\"Name\") == \"AAPL\")\n",
    "\n",
    "# Calcular a média do volume diário de transações para a AAPL\n",
    "media_volume_diario_aapl = df_aapl.groupBy(\"date\").agg(avg(\"volume\").alias(\"media_volume_diario\")).select(\"media_volume_diario\").agg(avg(\"media_volume_diario\")).collect()[0][\"avg(media_volume_diario)\"]\n",
    "\n",
    "media_volume_diario_aapl"
   ]
  },
  {
   "cell_type": "markdown",
   "id": "aae68fc3",
   "metadata": {},
   "source": [
    "### Resposta: Aproximadamente 54 milhões"
   ]
  },
  {
   "cell_type": "markdown",
   "id": "208fe521",
   "metadata": {},
   "source": [
    "## Questão 13"
   ]
  },
  {
   "cell_type": "markdown",
   "id": "8c19d3b0",
   "metadata": {},
   "source": [
    "### Quantas ações tem 1, 2, 3, 4 e 5 caracteres em seu nome, respectivamente?"
   ]
  },
  {
   "cell_type": "code",
   "execution_count": 54,
   "id": "5e70fd7b",
   "metadata": {},
   "outputs": [
    {
     "name": "stdout",
     "output_type": "stream",
     "text": [
      "+------------+-----+\n",
      "|tamanho_nome|count|\n",
      "+------------+-----+\n",
      "|           1|   10|\n",
      "|           3|  323|\n",
      "|           5|    5|\n",
      "|           4|  117|\n",
      "|           2|   50|\n",
      "+------------+-----+\n",
      "\n"
     ]
    }
   ],
   "source": [
    "# Calcular o comprimento do nome, considerando apenas ações distintas, e contar o número de ações distintas para cada comprimento\n",
    "contagem_acoes_distintas_por_tamanho = df.select(\"Name\").distinct().groupBy(length(\"Name\").alias(\"tamanho_nome\")).count()\n",
    "\n",
    "# Imprimir o resultado\n",
    "contagem_acoes_distintas_por_tamanho.show()"
   ]
  },
  {
   "cell_type": "markdown",
   "id": "1942380f",
   "metadata": {},
   "source": [
    "### Resposta: \n",
    "\n",
    "1  -   10\n",
    "\n",
    "2  -  50\n",
    "\n",
    "3  -  323\n",
    "\n",
    "4  -  117\n",
    "\n",
    "5  -   5"
   ]
  },
  {
   "cell_type": "markdown",
   "id": "837ca807",
   "metadata": {},
   "source": [
    "## Questão 14"
   ]
  },
  {
   "cell_type": "markdown",
   "id": "104b8d6f",
   "metadata": {},
   "source": [
    "### Qual a ação menos negociada da bolsa, em volume de transações?"
   ]
  },
  {
   "cell_type": "code",
   "execution_count": 55,
   "id": "87b1a33b",
   "metadata": {},
   "outputs": [
    {
     "data": {
      "text/plain": [
       "'APTV'"
      ]
     },
     "execution_count": 55,
     "metadata": {},
     "output_type": "execute_result"
    }
   ],
   "source": [
    "# Calcular o volume total de negociação para cada ação\n",
    "df_volume_total = df.groupBy(\"Name\").agg(sum(\"volume\").alias(\"volume_total\"))\n",
    "\n",
    "# Encontrar a ação menos negociada\n",
    "acao_menos_negociada = df_volume_total.orderBy(col(\"volume_total\")).first()[\"Name\"]\n",
    "\n",
    "acao_menos_negociada"
   ]
  },
  {
   "cell_type": "markdown",
   "id": "1eb2090a",
   "metadata": {},
   "source": [
    "### Resposta: APTV"
   ]
  },
  {
   "cell_type": "markdown",
   "id": "77fc912f",
   "metadata": {},
   "source": [
    "## Questão 15"
   ]
  },
  {
   "cell_type": "markdown",
   "id": "4372a7f0",
   "metadata": {},
   "source": [
    "### Qual dessas afirmações NÃO ilustra uma diferença entre as abstrações RDD e Dataframe?"
   ]
  },
  {
   "cell_type": "markdown",
   "id": "3497ad88",
   "metadata": {},
   "source": [
    "O Dataframe não é tolerante a falhas, enquanto o RDD sim (O “R” é de “resiliente”).\n",
    "\n",
    "O RDD tem uma API mais flexível e livre que o Dataframe, dado que ele trabalha com objetos arbitrários.\n",
    "\n",
    "O Dataframe suporta diretamente manipulação de colunas.\n",
    "\n",
    "Computações com Dataframes podem ser mais eficientes que com RDDs, pelo fato do Spark conhecer as colunas sobre as quais vai operar."
   ]
  },
  {
   "cell_type": "markdown",
   "id": "1e7bf759",
   "metadata": {},
   "source": [
    "### Resposta:  O Dataframe não é tolerante a falhas, enquanto o RDD sim (O “R” é de “resiliente”)."
   ]
  },
  {
   "cell_type": "code",
   "execution_count": 56,
   "id": "72ec2927",
   "metadata": {},
   "outputs": [],
   "source": [
    "spark.stop()"
   ]
  },
  {
   "cell_type": "code",
   "execution_count": null,
   "id": "d81345a1",
   "metadata": {},
   "outputs": [],
   "source": []
  }
 ],
 "metadata": {
  "kernelspec": {
   "display_name": "Python 3 (ipykernel)",
   "language": "python",
   "name": "python3"
  },
  "language_info": {
   "codemirror_mode": {
    "name": "ipython",
    "version": 3
   },
   "file_extension": ".py",
   "mimetype": "text/x-python",
   "name": "python",
   "nbconvert_exporter": "python",
   "pygments_lexer": "ipython3",
   "version": "3.11.4"
  }
 },
 "nbformat": 4,
 "nbformat_minor": 5
}
