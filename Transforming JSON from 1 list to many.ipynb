{
 "cells": [
  {
   "cell_type": "code",
   "execution_count": 2,
   "id": "5009be8c",
   "metadata": {},
   "outputs": [],
   "source": [
    "import json\n",
    "\n",
    "# Ler o arquivo JSON original\n",
    "with open(r\"C:\\Users\\lipet\\OneDrive\\Área de Trabalho\\Chess\\jogadores_chess.json\", 'r', encoding='utf-8') as file:\n",
    "    dados = json.load(file)\n",
    "\n",
    "# Extrair a lista desejada\n",
    "lista_dados = dados['user']\n",
    "\n",
    "# Salvar a lista como o novo conteúdo do arquivo JSON\n",
    "with open('dados_modificados.json', 'w', encoding='utf-8') as file:\n",
    "    json.dump(lista_dados, file, ensure_ascii=False, indent=4)"
   ]
  },
  {
   "cell_type": "code",
   "execution_count": null,
   "id": "be261cfe",
   "metadata": {},
   "outputs": [],
   "source": []
  }
 ],
 "metadata": {
  "kernelspec": {
   "display_name": "Python 3 (ipykernel)",
   "language": "python",
   "name": "python3"
  },
  "language_info": {
   "codemirror_mode": {
    "name": "ipython",
    "version": 3
   },
   "file_extension": ".py",
   "mimetype": "text/x-python",
   "name": "python",
   "nbconvert_exporter": "python",
   "pygments_lexer": "ipython3",
   "version": "3.9.13"
  }
 },
 "nbformat": 4,
 "nbformat_minor": 5
}
