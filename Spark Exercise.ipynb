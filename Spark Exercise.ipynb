{
 "cells": [
  {
   "cell_type": "markdown",
   "id": "c43a5b43",
   "metadata": {},
   "source": [
    "## DESM2 - Desafio do Módulo 2 - Pós em Ciência de Dados"
   ]
  },
  {
   "cell_type": "markdown",
   "id": "fdbcaad6",
   "metadata": {},
   "source": [
    "### Desafio Prático \n",
    "### Módulo 2: Desenvolvimento de Soluções Utilizando Spark \n",
    "### Objetivos de Ensino \n",
    "Exercitar os seguintes conceitos trabalhados no Módulo: \n",
    "✓ Exercitar o módulo Spark SQL do Apache Spark; \n",
    "✓ Exercitar o módulo Spark MLLib do Apache Spark. \n",
    "\n",
    "### Enunciado \n",
    "Doenças ligadas ao coração afetam milhões de pessoas ao redor do mundo e, segundo a Organização Mundial da Saúde (OMS), são a segunda principal causa de morte da população mundial. Como cientista de dados, você foi contratado para criar um modelo preditivo que, a partir de dados de pacientes como idade, gênero, nível de glicose, se o paciente fuma ou não, vai prever se aquele paciente terá um derrame cerebral ou não. \n",
    "Você tem acesso a um arquivo que possui atributos de pacientes e um atributo “stroke” (derrame), que indica se aquele paciente sofreu um evento de derrame ou não. \n",
    "\n",
    "O conjunto de dados stroke_data.csv está disponível em:  \n",
    "• https://drive.google.com/file/d/163BGU_RzXR29UbVVkPpv8tYnUejlPBVr/view?usp=share_link.  \n",
    "\n",
    "Para uma descrição das colunas, veja a seção “Attribute information” em: \n",
    "\n",
    "• https://www.kaggle.com/fedesoriano/stroke-prediction-dataset.\n",
    "\n",
    "As questões objetivas vão guiá-lo para a análise exploratória e para o modelo \n",
    "preditivo que você criará a partir dos dados. \n",
    "\n",
    "Links úteis:\n",
    "\n",
    "● https://spark.apache.org/docs/latest/sql-getting-started.html \n",
    "\n",
    "● https://spark.apache.org/docs/latest/ml-classificationregression.html#decision-tree-classifier \n",
    "\n",
    "### Atividades \n",
    "Os alunos deverão desempenhar as seguintes atividades: \n",
    "1. Assistir as aulas gravadas sobre os módulos Spark SQL e Spark ML; \n",
    "2. Assistir a aula interativa sobre Spark ML; \n",
    "3. A seguir, você estará apto a responder às perguntas. :-)"
   ]
  },
  {
   "cell_type": "markdown",
   "id": "28ac119e",
   "metadata": {},
   "source": [
    "## Informação dos Atributos"
   ]
  },
  {
   "cell_type": "markdown",
   "id": "ed571c2b",
   "metadata": {},
   "source": [
    "### Attribute Information\n",
    "1) id: unique identifier\n",
    "2) gender: \"Male\", \"Female\" or \"Other\"\n",
    "3) age: age of the patient\n",
    "4) hypertension: 0 if the patient doesn't have hypertension, 1 if the patient has hypertension\n",
    "5) heart_disease: 0 if the patient doesn't have any heart diseases, 1 if the patient has a heart disease\n",
    "6) ever_married: \"No\" or \"Yes\"\n",
    "7) work_type: \"children\", \"Govt_jov\", \"Never_worked\", \"Private\" or \"Self-employed\"\n",
    "8) Residence_type: \"Rural\" or \"Urban\"\n",
    "9) avg_glucose_level: average glucose level in blood\n",
    "10) bmi: body mass index\n",
    "11) smoking_status: \"formerly smoked\", \"never smoked\", \"smokes\" or \"Unknown\"*\n",
    "12) stroke: 1 if the patient had a stroke or 0 if not\n",
    "\n",
    "*Note: \"Unknown\" in smoking_status means that the information is unavailable for this patient"
   ]
  },
  {
   "cell_type": "markdown",
   "id": "1a3bb585",
   "metadata": {},
   "source": [
    "## Importando o Pyspark"
   ]
  },
  {
   "cell_type": "code",
   "execution_count": 2,
   "id": "519f0c06",
   "metadata": {},
   "outputs": [],
   "source": [
    "from pyspark.sql import SparkSession\n",
    "from pyspark.sql.functions import col, max, stddev, sum, abs, avg, length\n",
    "\n",
    "# Configuração básica do Spark\n",
    "spark = SparkSession.builder \\\n",
    "    .appName(\"Desafio\") \\\n",
    "    .getOrCreate()"
   ]
  },
  {
   "cell_type": "markdown",
   "id": "6a63954c",
   "metadata": {},
   "source": [
    "## Importando Dados do Arquivo"
   ]
  },
  {
   "cell_type": "markdown",
   "id": "330e2314",
   "metadata": {},
   "source": [
    "O conjunto de dados stroke_data.csv está disponível em:\n",
    "\n",
    "• https://drive.google.com/file/d/163BGU_RzXR29UbVVkPpv8tYnUejlPBVr/view?usp=share_link.\n",
    "\n",
    "Para uma descrição das colunas, veja a seção “Attribute information” em:\n",
    "\n",
    "• https://www.kaggle.com/fedesoriano/stroke-prediction-dataset."
   ]
  },
  {
   "cell_type": "code",
   "execution_count": 3,
   "id": "12e54ddd",
   "metadata": {},
   "outputs": [],
   "source": [
    "# importando o arquivo stroke_data.csv\n",
    "df = (spark.read\n",
    "  .format(\"csv\")\n",
    "  .option(\"header\", \"true\")\n",
    "  .option(\"inferSchema\", \"true\")\n",
    "  .load(\"stroke_data.csv\")\n",
    ")"
   ]
  },
  {
   "cell_type": "markdown",
   "id": "06a60f1f",
   "metadata": {},
   "source": [
    "## Visualizando os dados"
   ]
  },
  {
   "cell_type": "code",
   "execution_count": 4,
   "id": "8ff40a75",
   "metadata": {},
   "outputs": [
    {
     "name": "stdout",
     "output_type": "stream",
     "text": [
      "+---+------+----+------------+-------------+------------+-------------+--------------+-----------------+-----+---------------+------+\n",
      "|  0|gender| age|hypertension|heart_disease|ever_married|    work_type|Residence_type|avg_glucose_level|  bmi| smoking_status|stroke|\n",
      "+---+------+----+------------+-------------+------------+-------------+--------------+-----------------+-----+---------------+------+\n",
      "|  1|Female|18.0|           0|            0|          No|      Private|         Urban|            94.19|12.12|         smokes|     1|\n",
      "|  2|  Male|58.0|           1|            0|         Yes|      Private|         Rural|           154.24| 33.7|   never_smoked|     0|\n",
      "|  3|Female|36.0|           0|            0|         Yes|     Govt_job|         Urban|            72.63| 24.7|         smokes|     0|\n",
      "|  4|Female|62.0|           0|            0|         Yes|Self-employed|         Rural|            85.52| 31.2|formerly smoked|     0|\n",
      "|  5|Female|82.0|           0|            0|         Yes|      Private|         Rural|            59.32| 33.2|         smokes|     1|\n",
      "|  6|Female|82.0|           0|            0|          No|     Govt_job|         Urban|            234.5| 24.0|formerly smoked|     0|\n",
      "|  7|Female|33.0|           0|            0|         Yes|Self-employed|         Urban|           193.42| 29.9|         smokes|     0|\n",
      "|  8|Female|37.0|           0|            0|         Yes|      Private|         Rural|            156.7| 36.9|         smokes|     1|\n",
      "|  9|Female|41.0|           0|            0|         Yes|     Govt_job|         Rural|            64.06| 33.8|         smokes|     1|\n",
      "| 10|Female|70.0|           0|            0|         Yes|Self-employed|         Rural|            76.34| 24.4|formerly smoked|     1|\n",
      "| 11|Female|25.0|           0|            0|          No|      Private|         Urban|            91.15| 28.7|         smokes|     1|\n",
      "| 12|Female|43.0|           1|            0|          No|Self-employed|         Rural|            60.12| 34.2|formerly smoked|     0|\n",
      "| 13|  Male|72.0|           0|            1|         Yes|      Private|         Rural|           235.22| 40.3|formerly smoked|     1|\n",
      "| 14|Female|20.0|           0|            0|          No|      Private|         Rural|           106.47| 33.7|         smokes|     1|\n",
      "| 15|  Male|20.0|           0|            0|          No|      Private|         Urban|           104.78| 20.3|         smokes|     1|\n",
      "| 16|  Male|41.0|           0|            0|         Yes|Self-employed|         Urban|            159.3| 34.6|         smokes|     1|\n",
      "| 17|Female|23.0|           0|            0|          No|      Private|         Urban|           116.95| 23.8|         smokes|     1|\n",
      "| 18|  Male|22.0|           0|            0|          No|Self-employed|         Rural|            72.05| 31.9|         smokes|     1|\n",
      "| 19|  Male|69.0|           0|            0|         Yes|      Private|         Rural|            64.06| 35.1|formerly smoked|     0|\n",
      "| 20|Female|44.0|           0|            0|         Yes|Self-employed|         Rural|           135.03| 36.1|         smokes|     1|\n",
      "+---+------+----+------------+-------------+------------+-------------+--------------+-----------------+-----+---------------+------+\n",
      "only showing top 20 rows\n",
      "\n"
     ]
    }
   ],
   "source": [
    "# visualizando dataframe\n",
    "df.show()"
   ]
  },
  {
   "cell_type": "markdown",
   "id": "ba972b4e",
   "metadata": {},
   "source": [
    "## Estatística descritiva"
   ]
  },
  {
   "cell_type": "code",
   "execution_count": 5,
   "id": "b61ada0f",
   "metadata": {},
   "outputs": [
    {
     "name": "stdout",
     "output_type": "stream",
     "text": [
      "+-------+------------------+------+------------------+-------------------+-------------------+------------+---------+--------------+------------------+------------------+---------------+-------------------+\n",
      "|summary|                 0|gender|               age|       hypertension|      heart_disease|ever_married|work_type|Residence_type| avg_glucose_level|               bmi| smoking_status|             stroke|\n",
      "+-------+------------------+------+------------------+-------------------+-------------------+------------+---------+--------------+------------------+------------------+---------------+-------------------+\n",
      "|  count|             67135| 67135|             67135|              67135|              67135|       67135|    67135|         67135|             67135|             67135|          67135|              67135|\n",
      "|   mean|           33568.0|  NULL| 51.95950845311693|0.16410218217025396|0.10142250688910405|        NULL|     NULL|          NULL|113.41439606762462| 29.16154047813857|           NULL|  0.600089372160572|\n",
      "| stddev|19380.349498052576|  NULL|23.413054156327913|0.37037102916366954| 0.3018896147748789|        NULL|     NULL|          NULL| 51.25881719094036|7.1020570070927205|           NULL|0.48988334555668295|\n",
      "|    min|                 1|Female|              0.08|                  0|                  0|          No| Govt_job|         Rural|              55.0|              10.1|formerly smoked|                  0|\n",
      "|    max|             67135| Other|              82.0|                  1|                  1|         Yes| children|         Urban|            291.05|              97.6|         smokes|                  1|\n",
      "+-------+------------------+------+------------------+-------------------+-------------------+------------+---------+--------------+------------------+------------------+---------------+-------------------+\n",
      "\n"
     ]
    }
   ],
   "source": [
    "# visualizando as estatísticas descritivas do conjunto de dados\n",
    "df.describe().show()"
   ]
  },
  {
   "cell_type": "markdown",
   "id": "65326348",
   "metadata": {},
   "source": [
    "## Pergunta 1"
   ]
  },
  {
   "cell_type": "markdown",
   "id": "8d69da06",
   "metadata": {},
   "source": [
    "### Quantos registros existem no arquivo?"
   ]
  },
  {
   "cell_type": "code",
   "execution_count": 6,
   "id": "cbc0e3ce",
   "metadata": {},
   "outputs": [
    {
     "data": {
      "text/plain": [
       "67135"
      ]
     },
     "execution_count": 6,
     "metadata": {},
     "output_type": "execute_result"
    }
   ],
   "source": [
    "numero_registros = df.count()\n",
    "numero_registros"
   ]
  },
  {
   "cell_type": "markdown",
   "id": "082f739b",
   "metadata": {},
   "source": [
    "### Resposta: 67135"
   ]
  },
  {
   "cell_type": "markdown",
   "id": "7d15c0b0",
   "metadata": {},
   "source": [
    "## Pergunta 2"
   ]
  },
  {
   "cell_type": "markdown",
   "id": "c3276cd0",
   "metadata": {},
   "source": [
    "### Quantas colunas existem no arquivo? Quantas são numéricas? Ao ler o arquivo com spark.read.csv, habilite inferSchema=True. Use a função printSchema() da API de Dataframes."
   ]
  },
  {
   "cell_type": "code",
   "execution_count": 7,
   "id": "9d509b7d",
   "metadata": {},
   "outputs": [
    {
     "name": "stdout",
     "output_type": "stream",
     "text": [
      "Número total de colunas: 12\n",
      "Número de colunas numéricas: 7\n"
     ]
    }
   ],
   "source": [
    "# Determinar o número total de colunas\n",
    "num_total_colunas = len(df.columns)\n",
    "print(f\"Número total de colunas: {num_total_colunas}\")\n",
    "\n",
    "# Determinar o número de colunas numéricas\n",
    "num_colunas_numericas = len([coluna for coluna, tipo in df.dtypes if tipo.startswith('int') or tipo.startswith('double')])\n",
    "print(f\"Número de colunas numéricas: {num_colunas_numericas}\")"
   ]
  },
  {
   "cell_type": "code",
   "execution_count": 8,
   "id": "e2432802",
   "metadata": {},
   "outputs": [
    {
     "name": "stdout",
     "output_type": "stream",
     "text": [
      "root\n",
      " |-- 0: integer (nullable = true)\n",
      " |-- gender: string (nullable = true)\n",
      " |-- age: double (nullable = true)\n",
      " |-- hypertension: integer (nullable = true)\n",
      " |-- heart_disease: integer (nullable = true)\n",
      " |-- ever_married: string (nullable = true)\n",
      " |-- work_type: string (nullable = true)\n",
      " |-- Residence_type: string (nullable = true)\n",
      " |-- avg_glucose_level: double (nullable = true)\n",
      " |-- bmi: double (nullable = true)\n",
      " |-- smoking_status: string (nullable = true)\n",
      " |-- stroke: integer (nullable = true)\n",
      "\n"
     ]
    }
   ],
   "source": [
    "df.printSchema()"
   ]
  },
  {
   "cell_type": "markdown",
   "id": "0ddbe99c",
   "metadata": {},
   "source": [
    "### Resposta: 12 e 7 respecivamente"
   ]
  },
  {
   "cell_type": "markdown",
   "id": "14f2e9c8",
   "metadata": {},
   "source": [
    "## Pergunta 3"
   ]
  },
  {
   "cell_type": "markdown",
   "id": "36df77a7",
   "metadata": {},
   "source": [
    "### No conjunto de dados, quantos pacientes sofreram e não sofreram derrame (stroke), respectivamente?"
   ]
  },
  {
   "cell_type": "code",
   "execution_count": 9,
   "id": "ada58eb3",
   "metadata": {},
   "outputs": [
    {
     "name": "stdout",
     "output_type": "stream",
     "text": [
      "Sofreram Derrame: 40287\n",
      "Não Sofreram Derrame: 26848\n"
     ]
    }
   ],
   "source": [
    "#Contando quantos sofreram derrame\n",
    "sofreram_derrame = df.filter(col(\"stroke\") == 1).count()\n",
    "print(f\"Sofreram Derrame: {sofreram_derrame}\")\n",
    "\n",
    "#Contando quantos não sofreram derrame\n",
    "nao_sofreram_derrame = df.filter(col(\"stroke\") == 0).count()\n",
    "print(f\"Não Sofreram Derrame: {nao_sofreram_derrame}\")"
   ]
  },
  {
   "cell_type": "markdown",
   "id": "1ddde9d8",
   "metadata": {},
   "source": [
    "### Resposta: Sofreram Derrame: 40287 e Não Sofreram Derrame: 26848"
   ]
  },
  {
   "cell_type": "markdown",
   "id": "8816a874",
   "metadata": {},
   "source": [
    "## Pergunta 4"
   ]
  },
  {
   "cell_type": "markdown",
   "id": "e414f416",
   "metadata": {},
   "source": [
    "### A partir do dataframe, crie uma tabela temporária usando df.createOrReplaceTempView('table') e a seguir use spark.sql para escrever uma consulta SQL que obtenha quantos pacientes tiveram derrame por tipo de trabalho (work_type). Quantos pacientes sofreram derrame e trabalhavam respectivamente, no setor privado, de forma independente, no governo e quantas são crianças?"
   ]
  },
  {
   "cell_type": "code",
   "execution_count": 12,
   "id": "5ffcd7c3",
   "metadata": {},
   "outputs": [
    {
     "name": "stdout",
     "output_type": "stream",
     "text": [
      "+-------------+-------------+\n",
      "|    work_type|total_derrame|\n",
      "+-------------+-------------+\n",
      "| Never_worked|           85|\n",
      "|Self-employed|        10807|\n",
      "|      Private|        23711|\n",
      "|     children|          520|\n",
      "|     Govt_job|         5164|\n",
      "+-------------+-------------+\n",
      "\n"
     ]
    }
   ],
   "source": [
    "# Criar uma visualização temporária\n",
    "df.createOrReplaceTempView('pacientes')\n",
    "\n",
    "# Escrever uma consulta SQL para contar quantos pacientes tiveram derrame por tipo de trabalho\n",
    "consulta_sql = \"\"\"\n",
    "    SELECT work_type, COUNT(*) as total_derrame\n",
    "    FROM pacientes\n",
    "    WHERE stroke = 1\n",
    "    GROUP BY work_type\n",
    "\"\"\"\n",
    "\n",
    "# Executar a consulta SQL usando spark.sql\n",
    "resultado = spark.sql(consulta_sql)\n",
    "\n",
    "resultado.show()"
   ]
  },
  {
   "cell_type": "markdown",
   "id": "983c9747",
   "metadata": {},
   "source": [
    "### Resposta:\n",
    "Privado: 23711\n",
    "\n",
    "Self-employed: 10807\n",
    "\n",
    "Govt_job: 5164\n",
    "\n",
    "children: 520"
   ]
  },
  {
   "cell_type": "markdown",
   "id": "0aac6690",
   "metadata": {},
   "source": [
    "## Pergunta 5"
   ]
  },
  {
   "cell_type": "markdown",
   "id": "00a17234",
   "metadata": {},
   "source": [
    "### Escreva uma consulta com spark.sql para determinar a proporção, por gênero, de participantes do estudo. A maioria dos participantes é:"
   ]
  },
  {
   "cell_type": "code",
   "execution_count": 15,
   "id": "0a414391",
   "metadata": {},
   "outputs": [
    {
     "name": "stdout",
     "output_type": "stream",
     "text": [
      "+------+-------------------+---------+\n",
      "|gender|total_participantes|proporcao|\n",
      "+------+-------------------+---------+\n",
      "|Female|              39530|     0.59|\n",
      "| Other|                 11|      0.0|\n",
      "|  Male|              27594|     0.41|\n",
      "+------+-------------------+---------+\n",
      "\n"
     ]
    }
   ],
   "source": [
    "# Criar uma visualização temporária\n",
    "df.createOrReplaceTempView('participantes')\n",
    "\n",
    "# Escrever uma consulta SQL para calcular a proporção por gênero\n",
    "consulta_sql = \"\"\"\n",
    "    SELECT gender, COUNT(*) as total_participantes, \n",
    "           ROUND(COUNT(*) / (SELECT COUNT(*) FROM participantes), 2) as proporcao\n",
    "    FROM participantes\n",
    "    GROUP BY gender\n",
    "\"\"\"\n",
    "\n",
    "# Executar a consulta SQL usando spark.sql\n",
    "resultado = spark.sql(consulta_sql)\n",
    "\n",
    "resultado.show()"
   ]
  },
  {
   "cell_type": "markdown",
   "id": "3f31b0bf",
   "metadata": {},
   "source": [
    "### Resposta: Feminina"
   ]
  },
  {
   "cell_type": "markdown",
   "id": "55fb415b",
   "metadata": {},
   "source": [
    "## Pergunta 6"
   ]
  },
  {
   "cell_type": "markdown",
   "id": "ef1d6533",
   "metadata": {},
   "source": [
    "### Escreva uma consulta com spark.sql para determinar quem tem mais probabilidade de sofrer derrame: hipertensos ou não-hipertensos. Você pode escrever uma consulta para cada grupo. A partir das probabilidades que você obteve, você conclui que:"
   ]
  },
  {
   "cell_type": "code",
   "execution_count": 16,
   "id": "519fc8c2",
   "metadata": {},
   "outputs": [
    {
     "name": "stdout",
     "output_type": "stream",
     "text": [
      "+---------------+-------------+-------------+-------------+\n",
      "|          grupo|total_pessoas|total_derrame|probabilidade|\n",
      "+---------------+-------------+-------------+-------------+\n",
      "|    Hipertensos|        11017|         8817|       0.8003|\n",
      "|Não-Hipertensos|        56118|        31470|       0.5608|\n",
      "+---------------+-------------+-------------+-------------+\n",
      "\n"
     ]
    }
   ],
   "source": [
    "# Criar uma visualização temporária\n",
    "df.createOrReplaceTempView('pacientes')\n",
    "\n",
    "# Escrever uma consulta SQL para calcular a probabilidade de sofrer derrame entre hipertensos\n",
    "consulta_hipertensos = \"\"\"\n",
    "    SELECT CASE WHEN hypertension = 1 THEN 'Hipertensos' ELSE 'Não-Hipertensos' END AS grupo,\n",
    "           COUNT(*) as total_pessoas,\n",
    "           SUM(CASE WHEN stroke = 1 THEN 1 ELSE 0 END) as total_derrame,\n",
    "           ROUND(SUM(CASE WHEN stroke = 1 THEN 1 ELSE 0 END) / COUNT(*), 4) as probabilidade\n",
    "    FROM pacientes\n",
    "    GROUP BY hypertension\n",
    "\"\"\"\n",
    "\n",
    "# Executar a consulta SQL para hipertensos usando spark.sql\n",
    "resultado_hipertensos = spark.sql(consulta_hipertensos)\n",
    "\n",
    "resultado_hipertensos.show()"
   ]
  },
  {
   "cell_type": "markdown",
   "id": "05fc55ed",
   "metadata": {},
   "source": [
    "### Resposta: A hipertensão, neste conjunto de dados, aumenta a probabilidade de derrame."
   ]
  },
  {
   "cell_type": "markdown",
   "id": "259b7c39",
   "metadata": {},
   "source": [
    "## Pergunta 7"
   ]
  },
  {
   "cell_type": "markdown",
   "id": "798d5269",
   "metadata": {},
   "source": [
    "### Escreva uma consulta com spark.sql que determine o número de pessoas que sofreram derrame por idade. Com qual idade o maior número de pessoas do conjunto de dados sofreu derrame?"
   ]
  },
  {
   "cell_type": "code",
   "execution_count": 17,
   "id": "9e6eebd6",
   "metadata": {},
   "outputs": [
    {
     "name": "stdout",
     "output_type": "stream",
     "text": [
      "Número de pessoas que sofreram derrame por idade:\n",
      "+----+-------------------------+\n",
      "| age|total_pessoas_com_derrame|\n",
      "+----+-------------------------+\n",
      "|79.0|                     2916|\n",
      "|78.0|                     2279|\n",
      "|80.0|                     1858|\n",
      "|81.0|                     1738|\n",
      "|82.0|                     1427|\n",
      "|77.0|                      994|\n",
      "|74.0|                      987|\n",
      "|63.0|                      942|\n",
      "|76.0|                      892|\n",
      "|70.0|                      881|\n",
      "|66.0|                      848|\n",
      "|75.0|                      809|\n",
      "|67.0|                      801|\n",
      "|57.0|                      775|\n",
      "|73.0|                      759|\n",
      "|65.0|                      716|\n",
      "|72.0|                      709|\n",
      "|68.0|                      688|\n",
      "|69.0|                      677|\n",
      "|71.0|                      667|\n",
      "+----+-------------------------+\n",
      "only showing top 20 rows\n",
      "\n",
      "\n",
      "A idade com o maior número de pessoas que sofreram derrame é: 79.0\n"
     ]
    }
   ],
   "source": [
    "# Criar uma visualização temporária\n",
    "df.createOrReplaceTempView('pacientes')\n",
    "\n",
    "# Escrever uma consulta SQL para determinar o número de pessoas que sofreram derrame por idade\n",
    "consulta_derrame_por_idade = \"\"\"\n",
    "    SELECT age, COUNT(*) as total_pessoas_com_derrame\n",
    "    FROM pacientes\n",
    "    WHERE stroke = 1\n",
    "    GROUP BY age\n",
    "    ORDER BY total_pessoas_com_derrame DESC\n",
    "\"\"\"\n",
    "\n",
    "# Executar a consulta SQL usando spark.sql\n",
    "resultado_derrame_por_idade = spark.sql(consulta_derrame_por_idade)\n",
    "\n",
    "# Encontrar a idade com o maior número de pessoas que sofreram derrame\n",
    "idade_maior_numero_derrame = resultado_derrame_por_idade.first()[\"age\"]\n",
    "\n",
    "# Imprimir o resultado\n",
    "print(\"Número de pessoas que sofreram derrame por idade:\")\n",
    "resultado_derrame_por_idade.show()\n",
    "\n",
    "print(f\"\\nA idade com o maior número de pessoas que sofreram derrame é: {idade_maior_numero_derrame}\")"
   ]
  },
  {
   "cell_type": "markdown",
   "id": "4cba66a0",
   "metadata": {},
   "source": [
    "### Resposta: 79 anos"
   ]
  },
  {
   "cell_type": "markdown",
   "id": "79111d7c",
   "metadata": {},
   "source": [
    "## Pergunta 8"
   ]
  },
  {
   "cell_type": "markdown",
   "id": "eb185bd2",
   "metadata": {},
   "source": [
    "### Usando a API de dataframes, determine quantas pessoas sofreram derrames após os 50 anos."
   ]
  },
  {
   "cell_type": "code",
   "execution_count": 21,
   "id": "f5037aab",
   "metadata": {},
   "outputs": [
    {
     "data": {
      "text/plain": [
       "28938"
      ]
     },
     "execution_count": 21,
     "metadata": {},
     "output_type": "execute_result"
    }
   ],
   "source": [
    "# Filtrar o DataFrame para pessoas que sofreram derrame após os 50 anos\n",
    "derrame_apos_50 = df.filter((col(\"age\") > 50) & (col(\"stroke\") == 1))\n",
    "\n",
    "# Contar o número de pessoas que sofreram derrame após os 50 anos\n",
    "total_pessoas_derrame_apos_50 = derrame_apos_50.count()\n",
    "\n",
    "total_pessoas_derrame_apos_50"
   ]
  },
  {
   "cell_type": "markdown",
   "id": "caeae677",
   "metadata": {},
   "source": [
    "### Resposta: 28938 pessoas sofreram derrames após os 50 anos"
   ]
  },
  {
   "cell_type": "markdown",
   "id": "0708258c",
   "metadata": {},
   "source": [
    "## Pergunta 9"
   ]
  },
  {
   "cell_type": "markdown",
   "id": "3f3e4ac0",
   "metadata": {},
   "source": [
    "### Usando spark.sql, determine qual o nível médio de glicose para pessoas que, respectivamente, sofreram e não sofreram derrame."
   ]
  },
  {
   "cell_type": "code",
   "execution_count": 27,
   "id": "de06eee9",
   "metadata": {},
   "outputs": [
    {
     "name": "stdout",
     "output_type": "stream",
     "text": [
      "Nível médio de glicose para pessoas que sofreram derrame:\n",
      "+---------------------------+\n",
      "|nivel_medio_glicose_derrame|\n",
      "+---------------------------+\n",
      "|         119.95307046938272|\n",
      "+---------------------------+\n",
      "\n"
     ]
    }
   ],
   "source": [
    "# Criar uma visualização temporária\n",
    "df.createOrReplaceTempView('pacientes')\n",
    "\n",
    "# Escrever uma consulta SQL para calcular o nível médio de glicose para pessoas que sofreram derrame\n",
    "consulta_glicose_derrame = \"\"\"\n",
    "    SELECT AVG(avg_glucose_level) AS nivel_medio_glicose_derrame\n",
    "    FROM pacientes\n",
    "    WHERE stroke = 1\n",
    "\"\"\"\n",
    "\n",
    "# Executar a consulta SQL para pessoas que sofreram derrame usando spark.sql\n",
    "resultado_glicose_derrame = spark.sql(consulta_glicose_derrame)\n",
    "\n",
    "# Imprimir o resultado\n",
    "print(\"Nível médio de glicose para pessoas que sofreram derrame:\")\n",
    "resultado_glicose_derrame.show()\n",
    "\n"
   ]
  },
  {
   "cell_type": "code",
   "execution_count": 28,
   "id": "c1f0ebd6",
   "metadata": {},
   "outputs": [
    {
     "name": "stdout",
     "output_type": "stream",
     "text": [
      "Nível médio de glicose para pessoas que não sofreram derrame:\n",
      "+-------------------------------+\n",
      "|nivel_medio_glicose_sem_derrame|\n",
      "+-------------------------------+\n",
      "|             103.60273130214506|\n",
      "+-------------------------------+\n",
      "\n"
     ]
    }
   ],
   "source": [
    "# Escrever uma consulta SQL para calcular o nível médio de glicose para pessoas que não sofreram derrame\n",
    "consulta_glicose_sem_derrame = \"\"\"\n",
    "    SELECT AVG(avg_glucose_level) AS nivel_medio_glicose_sem_derrame\n",
    "    FROM pacientes\n",
    "    WHERE stroke = 0\n",
    "\"\"\"\n",
    "\n",
    "# Executar a consulta SQL para pessoas que não sofreram derrame usando spark.sql\n",
    "resultado_glicose_sem_derrame = spark.sql(consulta_glicose_sem_derrame)\n",
    "\n",
    "print(\"Nível médio de glicose para pessoas que não sofreram derrame:\")\n",
    "resultado_glicose_sem_derrame.show()\n"
   ]
  },
  {
   "cell_type": "markdown",
   "id": "90daa144",
   "metadata": {},
   "source": [
    "### Resposta: Respectivamente, 119 e 103."
   ]
  },
  {
   "cell_type": "markdown",
   "id": "64b8496c",
   "metadata": {},
   "source": [
    "## Pergunta 10"
   ]
  },
  {
   "cell_type": "markdown",
   "id": "5415949f",
   "metadata": {},
   "source": [
    "### Qual é o BMI (IMC = índice de massa corpórea) médio de quem sofreu e não sofreu derrame?"
   ]
  },
  {
   "cell_type": "code",
   "execution_count": 29,
   "id": "663b1fef",
   "metadata": {},
   "outputs": [
    {
     "name": "stdout",
     "output_type": "stream",
     "text": [
      "O IMC médio para pessoas que sofreram derrame:\n",
      "+------------------+\n",
      "|         imc_medio|\n",
      "+------------------+\n",
      "|29.942490629729495|\n",
      "+------------------+\n",
      "\n"
     ]
    }
   ],
   "source": [
    "# Criar uma visualização temporária\n",
    "df.createOrReplaceTempView('pacientes')\n",
    "\n",
    "# Escrever uma consulta SQL para calcular o IMC médio para pessoas que sofreram derrame\n",
    "consulta_imc_derrame = \"\"\"\n",
    "    SELECT AVG(bmi) AS imc_medio\n",
    "    FROM pacientes\n",
    "    WHERE stroke = 1\n",
    "\"\"\"\n",
    "\n",
    "# Executar a consulta SQL para pessoas que sofreram derrame usando spark.sql\n",
    "resultado_imc_derrame = spark.sql(consulta_imc_derrame)\n",
    "\n",
    "# Imprimir o resultado\n",
    "print(\"O IMC médio para pessoas que sofreram derrame:\")\n",
    "resultado_imc_derrame.show()"
   ]
  },
  {
   "cell_type": "code",
   "execution_count": 30,
   "id": "557276a7",
   "metadata": {},
   "outputs": [
    {
     "name": "stdout",
     "output_type": "stream",
     "text": [
      "O IMC médio para pessoas que não sofreram derrame:\n",
      "+------------------+\n",
      "|         imc_medio|\n",
      "+------------------+\n",
      "|27.989678933253657|\n",
      "+------------------+\n",
      "\n"
     ]
    }
   ],
   "source": [
    "# Criar uma visualização temporária\n",
    "df.createOrReplaceTempView('pacientes')\n",
    "\n",
    "# Escrever uma consulta SQL para calcular o IMC médio para pessoas que não sofreram derrame\n",
    "consulta_imc_sem_derrame = \"\"\"\n",
    "    SELECT AVG(bmi) AS imc_medio\n",
    "    FROM pacientes\n",
    "    WHERE stroke = 0\n",
    "\"\"\"\n",
    "\n",
    "# Executar a consulta SQL para pessoas que sofreram derrame usando spark.sql\n",
    "resultado_imc_sem_derrame = spark.sql(consulta_imc_sem_derrame)\n",
    "\n",
    "# Imprimir o resultado\n",
    "print(\"O IMC médio para pessoas que não sofreram derrame:\")\n",
    "resultado_imc_sem_derrame.show()"
   ]
  },
  {
   "cell_type": "markdown",
   "id": "ac3af5e0",
   "metadata": {},
   "source": [
    "### Resposta: Respectivamente 29,94 e 27,99"
   ]
  },
  {
   "cell_type": "markdown",
   "id": "d6a6e47c",
   "metadata": {},
   "source": [
    "## Pergunta 11"
   ]
  },
  {
   "cell_type": "markdown",
   "id": "84a24b75",
   "metadata": {},
   "source": [
    "### Crie um modelo de árvore de decisão que prevê a chance de derrame (stroke) a partir das variáveis contínuas/categóricas: idade, BMI, hipertensão, doença do coração, nível médio de glicose. Use o conteúdo da segunda aula interativa para criar e avaliar o modelo.\n",
    "\n",
    "### Qual a acurácia de um modelo construído?"
   ]
  },
  {
   "cell_type": "markdown",
   "id": "9572676b",
   "metadata": {},
   "source": [
    "#### Importando bibliotecas de ML"
   ]
  },
  {
   "cell_type": "code",
   "execution_count": 31,
   "id": "1a850901",
   "metadata": {},
   "outputs": [],
   "source": [
    "from pyspark.ml import Pipeline\n",
    "from pyspark.ml.feature import StringIndexer, VectorAssembler\n",
    "from pyspark.ml.classification import DecisionTreeClassifier\n",
    "from pyspark.ml.evaluation import MulticlassClassificationEvaluator"
   ]
  },
  {
   "cell_type": "markdown",
   "id": "6ebee9b0",
   "metadata": {},
   "source": [
    "#### Tratando as variáveis"
   ]
  },
  {
   "cell_type": "code",
   "execution_count": 32,
   "id": "f47b39ad",
   "metadata": {},
   "outputs": [],
   "source": [
    "# Tratamento de variáveis categóricas\n",
    "indexers = [StringIndexer(inputCol=col, outputCol=col+\"_index\").fit(df) for col in [\"hypertension\", \"heart_disease\"]]\n",
    "pipeline = Pipeline(stages=indexers)\n",
    "df_indexed = pipeline.fit(df).transform(df)\n"
   ]
  },
  {
   "cell_type": "markdown",
   "id": "96c26871",
   "metadata": {},
   "source": [
    "#### Montando as features"
   ]
  },
  {
   "cell_type": "code",
   "execution_count": 33,
   "id": "c11804b4",
   "metadata": {},
   "outputs": [],
   "source": [
    "# Montar os features\n",
    "assembler = VectorAssembler(\n",
    "    inputCols=[\"age\", \"bmi\", \"avg_glucose_level\", \"hypertension\", \"heart_disease\"],\n",
    "    outputCol=\"features\")\n"
   ]
  },
  {
   "cell_type": "markdown",
   "id": "9514287a",
   "metadata": {},
   "source": [
    "#### Preparar Dados para Treinamento e teste"
   ]
  },
  {
   "cell_type": "code",
   "execution_count": 34,
   "id": "746d9204",
   "metadata": {},
   "outputs": [],
   "source": [
    "# Preparar os dados para treinamento e teste\n",
    "data = assembler.transform(df_indexed)\n",
    "(trainingData, testData) = data.randomSplit([0.7, 0.3])\n"
   ]
  },
  {
   "cell_type": "markdown",
   "id": "c8ae9c26",
   "metadata": {},
   "source": [
    "#### Criando modelo de árvore de decisão"
   ]
  },
  {
   "cell_type": "code",
   "execution_count": 35,
   "id": "1e7b716f",
   "metadata": {},
   "outputs": [],
   "source": [
    "# Criar o modelo de árvore de decisão\n",
    "dt = DecisionTreeClassifier(labelCol=\"stroke\", featuresCol=\"features\")"
   ]
  },
  {
   "cell_type": "markdown",
   "id": "c75d88ab",
   "metadata": {},
   "source": [
    "#### Treinando o modelo"
   ]
  },
  {
   "cell_type": "code",
   "execution_count": 36,
   "id": "2169c13c",
   "metadata": {},
   "outputs": [],
   "source": [
    "# Treinar o modelo\n",
    "model = dt.fit(trainingData)"
   ]
  },
  {
   "cell_type": "markdown",
   "id": "11a4d3f3",
   "metadata": {},
   "source": [
    "#### Predição com dados de teste"
   ]
  },
  {
   "cell_type": "code",
   "execution_count": 37,
   "id": "86b92e03",
   "metadata": {},
   "outputs": [],
   "source": [
    "# Prever com os dados de teste\n",
    "predictions = model.transform(testData)"
   ]
  },
  {
   "cell_type": "markdown",
   "id": "1b61b81a",
   "metadata": {},
   "source": [
    "#### Avaliando o modelo"
   ]
  },
  {
   "cell_type": "code",
   "execution_count": 38,
   "id": "53c2c977",
   "metadata": {},
   "outputs": [],
   "source": [
    "# Avaliar o modelo\n",
    "evaluator = MulticlassClassificationEvaluator(labelCol=\"stroke\", predictionCol=\"prediction\", metricName=\"accuracy\")\n",
    "accuracy = evaluator.evaluate(predictions)\n"
   ]
  },
  {
   "cell_type": "markdown",
   "id": "9d0a2f34",
   "metadata": {},
   "source": [
    "#### Visualizando a acurácia do modelo"
   ]
  },
  {
   "cell_type": "code",
   "execution_count": 39,
   "id": "afa24dd1",
   "metadata": {},
   "outputs": [
    {
     "name": "stdout",
     "output_type": "stream",
     "text": [
      "Acurácia do modelo: 0.6927602712405265\n"
     ]
    }
   ],
   "source": [
    "print(\"Acurácia do modelo:\", accuracy)"
   ]
  },
  {
   "cell_type": "markdown",
   "id": "816f986a",
   "metadata": {},
   "source": [
    "### Resposta: Menor que 75%"
   ]
  },
  {
   "cell_type": "markdown",
   "id": "51b6c385",
   "metadata": {},
   "source": [
    "## Pergunta 12"
   ]
  },
  {
   "cell_type": "markdown",
   "id": "9828777d",
   "metadata": {},
   "source": [
    "### Adicione ao modelo as variáveis categóricas: gênero e status de fumante. Use o conteúdo da aula interativa para lidar com as variáveis categóricas.  A acurácia (qualidade) do modelo aumentou para:"
   ]
  },
  {
   "cell_type": "code",
   "execution_count": 40,
   "id": "e7bc4a6a",
   "metadata": {},
   "outputs": [
    {
     "name": "stdout",
     "output_type": "stream",
     "text": [
      "Acurácia do modelo após adicionar variáveis categóricas: 0.8344400619102301\n"
     ]
    }
   ],
   "source": [
    "# Tratamento de variáveis categóricas\n",
    "indexers = [StringIndexer(inputCol=col, outputCol=col+\"_index\").fit(df) for col in [\"gender\", \"ever_married\", \"work_type\", \"Residence_type\", \"smoking_status\"]]\n",
    "pipeline = Pipeline(stages=indexers)\n",
    "df_indexed = pipeline.fit(df).transform(df)\n",
    "\n",
    "# Montar os features\n",
    "assembler = VectorAssembler(\n",
    "    inputCols=[\"age\", \"hypertension\", \"heart_disease\", \"avg_glucose_level\", \"bmi\", \"gender_index\", \"ever_married_index\", \"work_type_index\", \"Residence_type_index\", \"smoking_status_index\"],\n",
    "    outputCol=\"features\")\n",
    "\n",
    "# Preparar os dados para treinamento e teste\n",
    "data = assembler.transform(df_indexed)\n",
    "(trainingData, testData) = data.randomSplit([0.7, 0.3])\n",
    "\n",
    "# Criar o modelo de árvore de decisão\n",
    "dt = DecisionTreeClassifier(labelCol=\"stroke\", featuresCol=\"features\")\n",
    "\n",
    "# Treinar o modelo\n",
    "model = dt.fit(trainingData)\n",
    "\n",
    "# Prever com os dados de teste\n",
    "predictions = model.transform(testData)\n",
    "\n",
    "# Avaliar o modelo\n",
    "evaluator = MulticlassClassificationEvaluator(labelCol=\"stroke\", predictionCol=\"prediction\", metricName=\"accuracy\")\n",
    "accuracy = evaluator.evaluate(predictions)\n",
    "\n",
    "# Imprimir a acurácia do modelo\n",
    "print(\"Acurácia do modelo após adicionar variáveis categóricas:\", accuracy)\n"
   ]
  },
  {
   "cell_type": "markdown",
   "id": "b854f1b6",
   "metadata": {},
   "source": [
    "### Resposta: Acima de 80%"
   ]
  },
  {
   "cell_type": "markdown",
   "id": "32343720",
   "metadata": {},
   "source": [
    "## Pergunta 13"
   ]
  },
  {
   "cell_type": "markdown",
   "id": "8722047a",
   "metadata": {},
   "source": [
    "### Adicione ao modelo as variáveis categóricas: gênero e status de fumante. Use o conteúdo da aula interativa para lidar com as variáveis categóricas. Qual dessas variáveis é mais importante no modelo de árvore de decisão que você construiu?"
   ]
  },
  {
   "cell_type": "code",
   "execution_count": 43,
   "id": "a7ea6348",
   "metadata": {},
   "outputs": [
    {
     "name": "stdout",
     "output_type": "stream",
     "text": [
      "age: 0.1659015889285094\n",
      "hypertension: 0.0\n",
      "heart_disease: 0.0\n",
      "avg_glucose_level: 0.007765815589382441\n",
      "bmi: 0.0009309743584070536\n",
      "gender: 0.0\n",
      "ever_married: 0.0\n",
      "work_type: 0.0\n",
      "Residence_type: 0.0\n",
      "smoking_status: 0.8254016211237011\n"
     ]
    }
   ],
   "source": [
    "# Visualizar a importância das variáveis\n",
    "importances = model.featureImportances\n",
    "feature_names = [\"age\", \"hypertension\", \"heart_disease\", \"avg_glucose_level\", \"bmi\", \"gender\", \"ever_married\", \"work_type\", \"Residence_type\", \"smoking_status\"]\n",
    "for i in range(len(feature_names)):\n",
    "    print(f\"{feature_names[i]}: {importances[i]}\")"
   ]
  },
  {
   "cell_type": "markdown",
   "id": "a822ed15",
   "metadata": {},
   "source": [
    "### Resposta: Status sobre fumo."
   ]
  },
  {
   "cell_type": "markdown",
   "id": "a0bd887d",
   "metadata": {},
   "source": [
    "## Pergunta 14"
   ]
  },
  {
   "cell_type": "markdown",
   "id": "329b1808",
   "metadata": {},
   "source": [
    "### Adicione ao modelo as variáveis categóricas: gênero e status de fumante. Use o conteúdo da aula interativa para lidar com as variáveis categóricas. Qual a profundidade da árvore de decisão? "
   ]
  },
  {
   "cell_type": "code",
   "execution_count": 44,
   "id": "f1666bbf",
   "metadata": {},
   "outputs": [
    {
     "name": "stdout",
     "output_type": "stream",
     "text": [
      "Profundidade da árvore de decisão: 5\n"
     ]
    }
   ],
   "source": [
    "# Obter a profundidade da árvore de decisão\n",
    "profundidade_arvore = model.depth\n",
    "\n",
    "# Imprimir a profundidade da árvore de decisão\n",
    "print(\"Profundidade da árvore de decisão:\", profundidade_arvore)"
   ]
  },
  {
   "cell_type": "markdown",
   "id": "aedb4dab",
   "metadata": {},
   "source": [
    "### Resposta: entre 2 e 7"
   ]
  },
  {
   "cell_type": "markdown",
   "id": "0d1690df",
   "metadata": {},
   "source": [
    "## Pergunta 15"
   ]
  },
  {
   "cell_type": "markdown",
   "id": "f36b0ccd",
   "metadata": {},
   "source": [
    "### Quantos nodos a árvore de decisão possui?"
   ]
  },
  {
   "cell_type": "code",
   "execution_count": 45,
   "id": "a1269e5c",
   "metadata": {},
   "outputs": [
    {
     "name": "stdout",
     "output_type": "stream",
     "text": [
      "Número de nós na árvore de decisão: 17\n"
     ]
    }
   ],
   "source": [
    "num_nodos_arvore = model.numNodes\n",
    "\n",
    "# Imprimir o número de nós na árvore de decisão\n",
    "print(\"Número de nós na árvore de decisão:\", num_nodos_arvore)"
   ]
  },
  {
   "cell_type": "markdown",
   "id": "864703c0",
   "metadata": {},
   "source": [
    "### Resposta: 17 nodos"
   ]
  },
  {
   "cell_type": "code",
   "execution_count": 46,
   "id": "026d4e50",
   "metadata": {},
   "outputs": [],
   "source": [
    "# Encerrar a sessão Spark\n",
    "spark.stop()"
   ]
  },
  {
   "cell_type": "code",
   "execution_count": null,
   "id": "4d4c4ca7",
   "metadata": {},
   "outputs": [],
   "source": []
  }
 ],
 "metadata": {
  "kernelspec": {
   "display_name": "Python 3 (ipykernel)",
   "language": "python",
   "name": "python3"
  },
  "language_info": {
   "codemirror_mode": {
    "name": "ipython",
    "version": 3
   },
   "file_extension": ".py",
   "mimetype": "text/x-python",
   "name": "python",
   "nbconvert_exporter": "python",
   "pygments_lexer": "ipython3",
   "version": "3.11.4"
  }
 },
 "nbformat": 4,
 "nbformat_minor": 5
}
